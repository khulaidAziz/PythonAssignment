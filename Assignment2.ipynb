{
 "cells": [
  {
   "cell_type": "code",
   "execution_count": 4,
   "metadata": {},
   "outputs": [
    {
     "name": "stdout",
     "output_type": "stream",
     "text": [
      "Enter marks of English : 90\n",
      "Enter marks of Computer : 90\n",
      "Enter marks of Science : 90\n",
      "Enter marks of Islamiat : 90\n",
      "Enter marks of Urdu : 90\n",
      "Grade: A\n"
     ]
    }
   ],
   "source": [
    "sub1=int(input(\"Enter marks of English : \"))\n",
    "sub2=int(input(\"Enter marks of Computer : \"))\n",
    "sub3=int(input(\"Enter marks of Science : \"))\n",
    "sub4=int(input(\"Enter marks of Islamiat : \"))\n",
    "sub5=int(input(\"Enter marks of Urdu : \"))\n",
    "avg=(sub1+sub2+sub3+sub4+sub4)/5\n",
    "if(avg>=90):\n",
    "    print(\"Grade: A\")\n",
    "elif( avg >= 80 and avg < 90):\n",
    "    print(\"Grade: B\")\n",
    "elif(avg>=70 and avg<80):\n",
    "    print(\"Grade: C\")\n",
    "elif(avg>=60 and avg<70):\n",
    "    print(\"Grade: D\")\n",
    "else:\n",
    "    print(\"Fail\")"
   ]
  },
  {
   "cell_type": "code",
   "execution_count": 6,
   "metadata": {},
   "outputs": [
    {
     "name": "stdout",
     "output_type": "stream",
     "text": [
      "Enter a number : 3\n",
      "3 is Odd\n"
     ]
    }
   ],
   "source": [
    "num = int(input(\"Enter a number : \"))\n",
    "if (num % 2) == 0:\n",
    "   print(\"{0} is Even\".format(num))\n",
    "else:\n",
    "   print(\"{0} is Odd\".format(num))"
   ]
  },
  {
   "cell_type": "code",
   "execution_count": 8,
   "metadata": {},
   "outputs": [
    {
     "name": "stdout",
     "output_type": "stream",
     "text": [
      "The length of list is:  4\n"
     ]
    }
   ],
   "source": [
    "n = len([10, 20, 30, 45]) \n",
    "print(\"The length of list is: \", n)"
   ]
  },
  {
   "cell_type": "code",
   "execution_count": 9,
   "metadata": {},
   "outputs": [
    {
     "name": "stdout",
     "output_type": "stream",
     "text": [
      "22\n"
     ]
    }
   ],
   "source": [
    "def sum(numbers):\n",
    "    total = 0\n",
    "    for x in numbers:\n",
    "        total += x\n",
    "    return total\n",
    "print(sum((3, 4, 7, 3, 5)))"
   ]
  },
  {
   "cell_type": "code",
   "execution_count": 10,
   "metadata": {},
   "outputs": [
    {
     "name": "stdout",
     "output_type": "stream",
     "text": [
      "39\n"
     ]
    }
   ],
   "source": [
    "def max_num_in_list( list ):\n",
    "    max = list[ 0 ]\n",
    "    for a in list:\n",
    "        if a > max:\n",
    "            max = a\n",
    "    return max\n",
    "print(max_num_in_list([2, 34, 39, 0, 4, -24]))"
   ]
  },
  {
   "cell_type": "code",
   "execution_count": 11,
   "metadata": {},
   "outputs": [
    {
     "name": "stdout",
     "output_type": "stream",
     "text": [
      "1\n",
      "1\n",
      "2\n",
      "3\n"
     ]
    }
   ],
   "source": [
    "a = [1, 1, 2, 3, 5, 8, 13, 21, 34, 55, 89]\n",
    "\n",
    "for i in a:\n",
    "\n",
    "    if i < 5:\n",
    "\n",
    "        print(i)"
   ]
  },
  {
   "cell_type": "code",
   "execution_count": null,
   "metadata": {},
   "outputs": [],
   "source": []
  }
 ],
 "metadata": {
  "kernelspec": {
   "display_name": "Python 3",
   "language": "python",
   "name": "python3"
  },
  "language_info": {
   "codemirror_mode": {
    "name": "ipython",
    "version": 3
   },
   "file_extension": ".py",
   "mimetype": "text/x-python",
   "name": "python",
   "nbconvert_exporter": "python",
   "pygments_lexer": "ipython3",
   "version": "3.7.4"
  }
 },
 "nbformat": 4,
 "nbformat_minor": 2
}
