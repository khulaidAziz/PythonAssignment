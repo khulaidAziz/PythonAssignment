{
 "cells": [
  {
   "cell_type": "code",
   "execution_count": 1,
   "metadata": {},
   "outputs": [
    {
     "name": "stdout",
     "output_type": "stream",
     "text": [
      "Haris\n",
      "Khan\n",
      "22\n",
      "Karachi\n",
      "haris@gmail.com\n"
     ]
    }
   ],
   "source": [
    "person = {\n",
    "    'first_name': 'Haris',\n",
    "    'last_name': 'Khan',\n",
    "    'age': 22,\n",
    "    'city': 'Karachi',\n",
    "    'email':'haris@gmail.com'\n",
    "    }\n",
    "print(person['first_name'])\n",
    "print(person['last_name'])\n",
    "print(person['age'])\n",
    "print(person['city'])\n",
    "print(person['email'])\n",
    "person['qualification']='Intermediate'\n",
    "p2={'qualification':'high academic level'}\n",
    "person.update(p2)\n",
    "del person['qualification']"
   ]
  },
  {
   "cell_type": "code",
   "execution_count": 2,
   "metadata": {},
   "outputs": [
    {
     "name": "stdout",
     "output_type": "stream",
     "text": [
      "Cities Dictionary:\n",
      "Karachi\n",
      "Faisalabad\n",
      "Multan\n",
      "Information Of Karachi\n",
      "{'country': 'Pakistan', 'population': '14.9 million', 'fact': \"Karachi is one of the world's fastest growing cities\"}\n",
      "Information Of Faisalabad\n",
      "{'country': 'Pakistan', 'population': '6.5 million', 'fact': 'The second-largest in the eastern province of Punjab'}\n",
      "Information Of Multan\n",
      "{'country': 'Pakistan', 'population': '1,014,825', 'fact': \"Multan is Pakistan's 7th largest city\"}\n"
     ]
    }
   ],
   "source": [
    "print('Cities Dictionary:')\n",
    "city = {\n",
    "    'city1' : 'Karachi',\n",
    "    'city2' : 'Faisalabad',\n",
    "    'city3' : 'Multan',  \n",
    "}\n",
    "print(city['city1'])\n",
    "print(city['city2'])\n",
    "print(city['city3'])\n",
    "\n",
    "informationOfKarachi ={\n",
    "    'country' : 'Pakistan',\n",
    "    'population' :'14.9 million',\n",
    "    'fact' : 'Karachi is one of the world\\'s fastest growing cities',\n",
    "}\n",
    "print('Information Of Karachi')\n",
    "print(informationOfKarachi)\n",
    "\n",
    "informationOfFaisalabad ={\n",
    "    'country' : 'Pakistan',\n",
    "    'population' :'6.5 million',\n",
    "    'fact' : 'The second-largest in the eastern province of Punjab',\n",
    "}\n",
    "print('Information Of Faisalabad')\n",
    "print(informationOfFaisalabad)\n",
    "\n",
    "informationOfMultan ={\n",
    "    'country' : 'Pakistan',\n",
    "    'population' :'1,014,825',\n",
    "    'fact' : 'Multan is Pakistan\\'s 7th largest city',\n",
    "}\n",
    "print('Information Of Multan')\n",
    "print(informationOfMultan)\n"
   ]
  },
  {
   "cell_type": "code",
   "execution_count": 3,
   "metadata": {},
   "outputs": [
    {
     "name": "stdout",
     "output_type": "stream",
     "text": [
      "Checking ticket pricing according to the age.\n",
      "Enter Your Age: 23\n",
      "Your ticket is $15\n"
     ]
    }
   ],
   "source": [
    "print('Checking ticket pricing according to the age.')\n",
    "age = int(input('Enter Your Age: '))\n",
    "if age <= 3:\n",
    "      print(\"Your ticket is free\")\n",
    "elif age >=3 and age <12:\n",
    "        print(\"Your ticket is $10\")\n",
    "else:\n",
    "        print(\"Your ticket is $15\")"
   ]
  },
  {
   "cell_type": "code",
   "execution_count": 4,
   "metadata": {},
   "outputs": [
    {
     "name": "stdout",
     "output_type": "stream",
     "text": [
      "One of my favorite books is Life Without limits\n"
     ]
    }
   ],
   "source": [
    "def favorite_book(title):\n",
    "    print( 'One of my favorite books is '+ title)\n",
    "favorite_book('Life Without limits')"
   ]
  },
  {
   "cell_type": "code",
   "execution_count": null,
   "metadata": {},
   "outputs": [
    {
     "name": "stdout",
     "output_type": "stream",
     "text": [
      " I am thinking of a number between 1 and 30.\n",
      "Take a guess.\n",
      "23\n",
      "Your guess is too high.\n",
      "Nope. The number I was thinking of was 6\n",
      "Take a guess.\n"
     ]
    }
   ],
   "source": [
    "import random\n",
    "guessesTaken = 3\n",
    "number = random.randint(1, 30)\n",
    "print(' I am thinking of a number between 1 and 30.')\n",
    "while guessesTaken < 6:\n",
    "    print('Take a guess.')\n",
    "    guess = input()\n",
    "    guess = int(guess)\n",
    "    \n",
    "    guessesTaken = guessesTaken + 1\n",
    "    \n",
    "    if guess < number:\n",
    "         print('Your guess is too low.')\n",
    "    if guess > number:\n",
    "        print('Your guess is too high.')\n",
    "    if guess == number:\n",
    "        break \n",
    "    if guess == number:\n",
    "        guessesTaken = str(guessesTaken)\n",
    "        print('Good job, ' + myName + '! You guessed my number in ' + guessesTaken + ' guesses!')\n",
    "    if guess != number:\n",
    "        number = str(number)\n",
    "        print('Nope. The number I was thinking of was ' + number)"
   ]
  },
  {
   "cell_type": "code",
   "execution_count": null,
   "metadata": {},
   "outputs": [],
   "source": []
  },
  {
   "cell_type": "code",
   "execution_count": null,
   "metadata": {},
   "outputs": [],
   "source": []
  }
 ],
 "metadata": {
  "kernelspec": {
   "display_name": "Python 3",
   "language": "python",
   "name": "python3"
  },
  "language_info": {
   "codemirror_mode": {
    "name": "ipython",
    "version": 3
   },
   "file_extension": ".py",
   "mimetype": "text/x-python",
   "name": "python",
   "nbconvert_exporter": "python",
   "pygments_lexer": "ipython3",
   "version": "3.7.4"
  }
 },
 "nbformat": 4,
 "nbformat_minor": 2
}
